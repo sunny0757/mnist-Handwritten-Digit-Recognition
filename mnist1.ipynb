{
 "cells": [
  {
   "cell_type": "code",
   "execution_count": 1,
   "metadata": {},
   "outputs": [],
   "source": [
    "import matplotlib.pyplot as plt\n",
    "import numpy as np\n",
    "import tensorflow as tf\n",
    "from tqdm import tqdm"
   ]
  },
  {
   "cell_type": "code",
   "execution_count": 2,
   "metadata": {},
   "outputs": [
    {
     "name": "stdout",
     "output_type": "stream",
     "text": [
      "Extracting MNIST_data/train-images-idx3-ubyte.gz\n",
      "Extracting MNIST_data/train-labels-idx1-ubyte.gz\n",
      "Extracting MNIST_data/t10k-images-idx3-ubyte.gz\n",
      "Extracting MNIST_data/t10k-labels-idx1-ubyte.gz\n"
     ]
    }
   ],
   "source": [
    "from tensorflow.examples.tutorials.mnist import input_data\n",
    "mnist = input_data.read_data_sets('MNIST_data', one_hot=True)"
   ]
  },
  {
   "cell_type": "code",
   "execution_count": 3,
   "metadata": {},
   "outputs": [],
   "source": [
    "# mnist.train.shape"
   ]
  },
  {
   "cell_type": "code",
   "execution_count": 4,
   "metadata": {},
   "outputs": [],
   "source": [
    "# (1) INITIALIZATION\n",
    "K = 200\n",
    "L = 100\n",
    "M = 60\n",
    "N = 30\n",
    "# Placeholder for input\n",
    "X = tf.placeholder(tf.float32, [None, 784])\n",
    "# Placeholder for correct answers\n",
    "Y_ = tf.placeholder(tf.float32, [None, 10])  # one-hot encoded\n",
    "# Weights(W) and biases(b)\n",
    "W1 = tf.Variable( tf.truncated_normal([784, K], stddev=0.1) )\n",
    "B1 = tf.Variable( tf.zeros([K]) )\n",
    "W2 = tf.Variable( tf.truncated_normal([K, L], stddev=0.1) )\n",
    "B2 = tf.Variable( tf.zeros([L]) )\n",
    "W3 = tf.Variable( tf.truncated_normal([L, M], stddev=0.1) )\n",
    "B3 = tf.Variable( tf.zeros([M]) )\n",
    "W4 = tf.Variable( tf.truncated_normal([M, N], stddev=0.1) )\n",
    "B4 = tf.Variable( tf.zeros([N]) )\n",
    "W5 = tf.Variable( tf.truncated_normal([N, 10], stddev=0.1) )\n",
    "B5 = tf.Variable( tf.zeros([10]) )\n",
    "\n",
    "init = tf.global_variables_initializer()"
   ]
  },
  {
   "cell_type": "code",
   "execution_count": 5,
   "metadata": {},
   "outputs": [],
   "source": [
    "# (2) SUCCESS METRICS\n",
    "\n",
    "# Model\n",
    "X = tf.reshape(X, [-1, 784])  # \"-1\" means there is only one solution, figure it out.\n",
    "Y1 = tf.nn.relu( tf.matmul(X, W1) + B1 )\n",
    "Y2 = tf.nn.relu( tf.matmul(Y1, W2) + B2 )\n",
    "Y3 = tf.nn.relu( tf.matmul(Y2, W3) + B3 )\n",
    "Y4 = tf.nn.relu( tf.matmul(Y3, W4) + B4 )\n",
    "Y = tf.nn.softmax( tf.matmul(Y4, W5) + B5 )\n",
    "# Loss function\n",
    "cross_entropy = -tf.reduce_sum(Y_*tf.log(Y))\n",
    "# cross_entropy = tf.reduce_mean( tf.nn.softmax_cross_entropy_with_logits_v2(logits=Y, labels=Y_) )\n",
    "# %age of correct answers found in batch\n",
    "is_correct = tf.equal(tf.argmax(Y,1), tf.argmax(Y_,1))\n",
    "accuracy = tf.reduce_mean(tf.cast(is_correct, tf.float32))"
   ]
  },
  {
   "cell_type": "code",
   "execution_count": 6,
   "metadata": {},
   "outputs": [],
   "source": [
    "# (3) TRAINING\n",
    "\n",
    "optimizer = tf.train.GradientDescentOptimizer(0.003)\n",
    "train_step = optimizer.minimize(cross_entropy)"
   ]
  },
  {
   "cell_type": "code",
   "execution_count": 11,
   "metadata": {},
   "outputs": [
    {
     "name": "stderr",
     "output_type": "stream",
     "text": [
      "100%|██████████| 3000/3000 [13:42<00:00,  3.65it/s]"
     ]
    },
    {
     "name": "stdout",
     "output_type": "stream",
     "text": [
      "Accuracy = 97.36% , Cost = 950.5697021484375\n"
     ]
    },
    {
     "name": "stderr",
     "output_type": "stream",
     "text": [
      "\n"
     ]
    }
   ],
   "source": [
    "# (4) RUN\n",
    "sess = tf.Session()\n",
    "sess.run(init)\n",
    "\n",
    "epoch = 3000\n",
    "cost_history = []\n",
    "accu_test_history = []\n",
    "for i in tqdm(range(epoch)):\n",
    "    # load batch of images & correct answers\n",
    "    batch_X, batch_Y = mnist.train.next_batch(100)\n",
    "    # train\n",
    "    sess.run(train_step, feed_dict={X:batch_X, Y_:batch_Y})\n",
    "    \n",
    "    # success ??\n",
    "    a,c = sess.run([accuracy, cross_entropy], feed_dict={X:batch_X, Y_:batch_Y})\n",
    "    # success on test data ??\n",
    "    a_test,c_test = sess.run([accuracy, cross_entropy], feed_dict={X:mnist.test.images, Y_:mnist.test.labels})\n",
    "    accu_test_history.append(a_test)\n",
    "    cost_history.append(c_test)\n",
    "#     if i % 100 == 0:\n",
    "#         print(\"EPOCH \", i)\n",
    "#         print(\"Accuracy = {0}% , Cost = {1}\".format(round(a_test*100,2), c_test))\n",
    "\n",
    "print(\"Accuracy = {0}% , Cost = {1}\".format(round(a_test*100,2), c_test))\n",
    "\n",
    "sess.close()"
   ]
  },
  {
   "cell_type": "code",
   "execution_count": 8,
   "metadata": {},
   "outputs": [
    {
     "data": {
      "image/png": "[encoded data removed]",
      "text/plain": [
       "<Figure size 432x288 with 1 Axes>"
      ]
     },
     "metadata": {},
     "output_type": "display_data"
    }
   ],
   "source": [
    "plt.figure().patch.set_facecolor('lightgrey')\n",
    "plt.plot(range(epoch), cost_history, label='cost')\n",
    "# plt.plot(range(200,epoch,100),cost_history[200::100], label='Cost')\n",
    "plt.xlabel(\"iterations\")\n",
    "plt.ylabel(\"J\")\n",
    "plt.legend()\n",
    "plt.show()"
   ]
  },
  {
   "cell_type": "code",
   "execution_count": 13,
   "metadata": {},
   "outputs": [
    {
     "name": "stdout",
     "output_type": "stream",
     "text": [
      "0.977\n"
     ]
    }
   ],
   "source": [
    "print(max(accu_test_history))"
   ]
  }
 ],
 "metadata": {
  "kernelspec": {
   "display_name": "Python 3",
   "language": "python",
   "name": "python3"
  },
  "language_info": {
   "codemirror_mode": {
    "name": "ipython",
    "version": 3
   },
   "file_extension": ".py",
   "mimetype": "text/x-python",
   "name": "python",
   "nbconvert_exporter": "python",
   "pygments_lexer": "ipython3",
   "version": "3.5.2"
  }
 },
 "nbformat": 4,
 "nbformat_minor": 2
}
