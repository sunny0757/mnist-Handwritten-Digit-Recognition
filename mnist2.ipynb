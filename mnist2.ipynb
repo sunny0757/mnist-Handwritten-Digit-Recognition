{
  "cells": [
    {
      "metadata": {
        "_uuid": "4e1145524733560413ae6769e1ec2d4a336af6fb",
        "_cell_guid": "4c1c26d0-a200-4f3b-aec4-dc7e70eebfc8",
        "trusted": true
      },
      "cell_type": "code",
      "source": "import matplotlib.pyplot as plt\nimport numpy as np\nimport tensorflow as tf\nfrom tqdm import tqdm\nimport pandas as pd\nfrom sklearn.model_selection import train_test_split",
      "execution_count": 17,
      "outputs": []
    },
    {
      "metadata": {
        "_uuid": "8f2839f25d086af736a60e9eeb907d3b93b6e0e5",
        "_cell_guid": "b1076dfc-b9ad-4769-8c92-a6c4dae69d19",
        "trusted": true,
        "collapsed": true
      },
      "cell_type": "code",
      "source": "df_train = pd.read_csv('../input/train.csv')\ndf_test = pd.read_csv('../input/test.csv')\n\nX_train = df_train.iloc[:,1:].values # selects columns 1 to end as first(index=0) column is of labels\ny_train = df_train.iloc[:,:1].values # selects first column(0 is first and 1 is second)\n\ntrain_X, valid_X, train_y, valid_y = train_test_split(X_train, y_train, test_size=0.33, random_state=42)\n\n# One-hot conversion for training data\nm_train = train_y.shape[0]\ntrain_y_mat = np.zeros((m_train, 10))\nfor i in range(0,m_train):\n    train_y_mat[i, train_y[i]] = 1\n# One-hot conversion for validation data\nm_valid = valid_y.shape[0]\nvalid_y_mat = np.zeros((m_valid, 10))\nfor i in range(0,m_valid):\n    valid_y_mat[i, valid_y[i]] = 1\n# Similarly for test data\ntest_X = df_test.iloc[:,:].values",
      "execution_count": 18,
      "outputs": []
    },
    {
      "metadata": {
        "_uuid": "a3ced38584ca301efe64650d17f5d870e592b049",
        "_cell_guid": "bff0462d-b371-461b-a781-38c108272433",
        "trusted": true
      },
      "cell_type": "code",
      "source": "train_X.shape",
      "execution_count": 19,
      "outputs": [
        {
          "output_type": "execute_result",
          "execution_count": 19,
          "data": {
            "text/plain": "(28140, 784)"
          },
          "metadata": {}
        }
      ]
    },
    {
      "metadata": {
        "_uuid": "55de0eb41cc1aec72c1abbfd073a2bcf28e7593f",
        "_cell_guid": "9e79cff9-4efb-4080-96d8-cecc683c07dc",
        "trusted": true
      },
      "cell_type": "code",
      "source": "plt.figure(figsize=(14,2))\nfor i in range(10):\n    plt.subplot(1, 10, i+1)\n    plt.axis('off')\n    plt.imshow(train_X[i].reshape(28,28), cmap='binary')\n    plt.title(\"Label: {0}\".format(train_y[i]))\n    plt.subplots_adjust(wspace=0.5)\nplt.show()",
      "execution_count": 20,
      "outputs": [
        {
          "output_type": "display_data",
          "data": {
            "text/plain": "<matplotlib.figure.Figure at 0x7f06f039cc18>",
            "image/png": "[encoded data removed]"
          },
          "metadata": {}
        }
      ]
    },
    {
      "metadata": {
        "_uuid": "d629ff2d2480ee46fbb7e2d37f6b5fab8052498a",
        "collapsed": true,
        "_cell_guid": "79c7e3d0-c299-4dcb-8224-4455121ee9b0",
        "trusted": true
      },
      "cell_type": "code",
      "source": "# from tensorflow.examples.tutorials.mnist import input_data\n# mnist = input_data.read_data_sets('MNIST_data', one_hot=True)\n# mnist = tf.contrib.learn.datasets.load_dataset(\"mnist\")",
      "execution_count": 21,
      "outputs": []
    },
    {
      "metadata": {
        "_uuid": "745ab19ba3e7496eab3ec6e4c36459e154548496",
        "collapsed": true,
        "_cell_guid": "e7558845-8531-4f72-8f37-d068e2f67d34",
        "trusted": true
      },
      "cell_type": "code",
      "source": "# (1) INITIALIZATION\nK = 200\nL = 100\nM = 60\nN = 30\n# Placeholder for input\nX = tf.placeholder(tf.float32, [None, 784])\n# Placeholder for correct answers\nY_ = tf.placeholder(tf.float32, [None, 10])  # one-hot encoded\n# Weights(W) and biases(b)\nW1 = tf.Variable( tf.truncated_normal([784, K], stddev=0.1) )\nB1 = tf.Variable( tf.zeros([K]) )\nW2 = tf.Variable( tf.truncated_normal([K, L], stddev=0.1) )\nB2 = tf.Variable( tf.zeros([L]) )\nW3 = tf.Variable( tf.truncated_normal([L, M], stddev=0.1) )\nB3 = tf.Variable( tf.zeros([M]) )\nW4 = tf.Variable( tf.truncated_normal([M, N], stddev=0.1) )\nB4 = tf.Variable( tf.zeros([N]) )\nW5 = tf.Variable( tf.truncated_normal([N, 10], stddev=0.1) )\nB5 = tf.Variable( tf.zeros([10]) )\n\ninit = tf.global_variables_initializer()",
      "execution_count": 22,
      "outputs": []
    },
    {
      "metadata": {
        "_uuid": "d385274b2a1fe9c878ba2c8d4003bc3c2079feca",
        "_cell_guid": "1013bb0a-5be1-411a-8bf4-3ad89bf0d72d",
        "trusted": true
      },
      "cell_type": "code",
      "source": "# (2) SUCCESS METRICS\n\n# Model\nX = tf.reshape(X, [-1, 784])  # \"-1\" means there is only one solution, figure it out.\nY1 = tf.nn.relu( tf.matmul(X, W1) + B1 )\nY2 = tf.nn.relu( tf.matmul(Y1, W2) + B2 )\nY3 = tf.nn.relu( tf.matmul(Y2, W3) + B3 )\nY4 = tf.nn.relu( tf.matmul(Y3, W4) + B4 )\nY = tf.nn.softmax( tf.matmul(Y4, W5) + B5 )\n# Loss function\ncross_entropy = -tf.reduce_sum(Y_*tf.log(Y))\n# cross_entropy = tf.reduce_mean( tf.nn.softmax_cross_entropy_with_logits_v2(logits=Y, labels=Y_) )\n# %age of correct answers found in batch\nis_correct = tf.equal(tf.argmax(Y,1), tf.argmax(Y_,1))\naccuracy = tf.reduce_mean(tf.cast(is_correct, tf.float32))",
      "execution_count": 40,
      "outputs": []
    },
    {
      "metadata": {
        "_uuid": "64edbff91a22732c8720c42d8d2d72b04bd621c9",
        "_cell_guid": "fcd5dfad-7498-4908-826a-1fe5b36ff892",
        "trusted": true,
        "collapsed": true
      },
      "cell_type": "code",
      "source": "# (3) TRAINING\n\noptimizer = tf.train.GradientDescentOptimizer(0.003)\ntrain_step = optimizer.minimize(cross_entropy)",
      "execution_count": 41,
      "outputs": []
    },
    {
      "metadata": {
        "_uuid": "4779f3d124c43a21a9e3bf93d5ff15f46d5a90c7",
        "collapsed": true,
        "scrolled": false,
        "_cell_guid": "2adedff2-15bb-4c0e-8a9d-2f8b7f2e91bd",
        "trusted": true
      },
      "cell_type": "code",
      "source": "# sess = tf.Session()\n# sess.run(init)\n\n# EPOCH = 100\n# BATCH_SIZE = 128\n# TRAIN_DATASIZE= train_X.shape[0]\n# PERIOD = TRAIN_DATASIZE/BATCH_SIZE #Number of iterations for each epoch\n# print(PERIOD)\n# cost_history = []\n# accu_valid_history = []\n\n# for _ in tqdm(range(EPOCH)):\n#     idxs = np.random.permutation(TRAIN_DATASIZE) #shuffled ordering\n#     X_random = train_X[idxs]\n#     Y_random = train_y_mat[idxs]\n#     for i in range(int(PERIOD)):\n#         batch_X = X_random[i * BATCH_SIZE:(i+1) * BATCH_SIZE]\n#         batch_Y = Y_random[i * BATCH_SIZE:(i+1) * BATCH_SIZE]\n#         sess.run(train_step,feed_dict = {X: batch_X, Y_:batch_Y})\n        \n#     #     success ??\n#         c,a = sess.run([cross_entropy, accuracy], feed_dict={X:batch_X, Y_:batch_Y})\n#     #     success on test data ??\n#         c_valid, a_valid = sess.run([cross_entropy, accuracy], feed_dict={X:valid_X, Y_:valid_y_mat})\n#         cost_history.append(c_valid)\n#         accu_valid_history.append(a_valid)\n\n#     print(\"Cost = {0}, Accuracy = {1}%\".format(c_valid, round(a_valid*100,2)))\n\n# sess.close()",
      "execution_count": 42,
      "outputs": []
    },
    {
      "metadata": {
        "_uuid": "515b193be8891979429f4c4b9a4e3e2527207894",
        "scrolled": false,
        "_cell_guid": "092fe241-c0a7-49f5-be7d-581228942b9e",
        "trusted": true
      },
      "cell_type": "code",
      "source": "# (4) RUN\nsess = tf.Session()\nsess.run(init)\n# Run the training step i times on j random images\nepoch = 50\nbatch = 128\n\nstart = 0\nfinal = batch\ncost_history = []\naccu_valid_history = []\n# put images into batches and try not to take same image twice until all have been selected\nfor _ in tqdm(range(epoch)):\n    batch_X = train_X[start:final,:] #take set of  images\n    batch_Y = train_y_mat[start:final,:] #take set true values\n    sess.run(train_step, feed_dict={X: batch_X, Y_:batch_Y}) #run session\n    start += batch\n    final += batch\n    if final >= m_train:\n        idxs = np.random.shuffle(np.arange(m_train)) #randomize indices\n        train_X = train_X[idxs]\n        train_y_mat = train_y_mat[idxs]\n        start = 0\n        final = batch\n    \n#     success ??\n    c,a = sess.run([cross_entropy, accuracy], feed_dict={X:batch_X, Y_:batch_Y})\n#     success on test data ??\n    c_valid, a_valid = sess.run([cross_entropy, accuracy], feed_dict={X:valid_X, Y_:valid_y_mat})\n    cost_history.append(c_valid)\n    accu_valid_history.append(a_valid)\n\nprint(\"Cost = {0}, Accuracy = {1}%\".format(c_valid, round(a_valid*100,2)))\n\nsess.close()",
      "execution_count": 43,
      "outputs": [
        {
          "output_type": "stream",
          "text": "100%|██████████| 50/50 [00:07<00:00,  6.91it/s]",
          "name": "stderr"
        },
        {
          "output_type": "stream",
          "text": "Cost = nan, Accuracy = 9.62%\n",
          "name": "stdout"
        },
        {
          "output_type": "stream",
          "text": "\n",
          "name": "stderr"
        }
      ]
    },
    {
      "metadata": {
        "_uuid": "1ce9872605ba8029b15a4249e11a55cff6be9b19",
        "scrolled": false,
        "_cell_guid": "9aeba2a6-9dec-4576-bb03-2bfdfa62c9f6",
        "trusted": true
      },
      "cell_type": "code",
      "source": "len(cost_history)",
      "execution_count": 46,
      "outputs": [
        {
          "output_type": "execute_result",
          "execution_count": 46,
          "data": {
            "text/plain": "50"
          },
          "metadata": {}
        }
      ]
    },
    {
      "metadata": {
        "_uuid": "339660c021c4ce6114e020a6dc074039b6bd8106",
        "collapsed": true,
        "_cell_guid": "911a13be-4359-4f96-b265-1a12db20bd24",
        "trusted": false
      },
      "cell_type": "code",
      "source": "plt.figure().patch.set_facecolor('lightgrey')\nplt.plot(range(epoch), cost_history, label='cost')\n# plt.plot(range(200,epoch,100),cost_history[200::100], label='Cost')\nplt.xlabel(\"iterations\")\nplt.ylabel(\"J\")\nplt.legend()\nplt.show()",
      "execution_count": null,
      "outputs": []
    }
  ],
  "metadata": {
    "kernelspec": {
      "display_name": "Python 3",
      "language": "python",
      "name": "python3"
    },
    "language_info": {
      "name": "python",
      "version": "3.6.4",
      "mimetype": "text/x-python",
      "codemirror_mode": {
        "name": "ipython",
        "version": 3
      },
      "pygments_lexer": "ipython3",
      "nbconvert_exporter": "python",
      "file_extension": ".py"
    }
  },
  "nbformat": 4,
  "nbformat_minor": 1
}